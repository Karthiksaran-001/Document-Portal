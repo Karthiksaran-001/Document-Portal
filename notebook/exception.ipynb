{
 "cells": [
  {
   "cell_type": "code",
   "execution_count": 1,
   "id": "1a05f0f2",
   "metadata": {},
   "outputs": [
    {
     "data": {
      "text/plain": [
       "2"
      ]
     },
     "execution_count": 1,
     "metadata": {},
     "output_type": "execute_result"
    }
   ],
   "source": [
    "1+1"
   ]
  },
  {
   "cell_type": "code",
   "execution_count": 1,
   "id": "03bd4275",
   "metadata": {},
   "outputs": [],
   "source": [
    "import sys\n",
    "import traceback"
   ]
  },
  {
   "cell_type": "code",
   "execution_count": 4,
   "id": "3d9189ec",
   "metadata": {},
   "outputs": [
    {
     "name": "stdout",
     "output_type": "stream",
     "text": [
      "(<class 'ZeroDivisionError'>, ZeroDivisionError('division by zero'), <traceback object at 0x000001EE89367D80>)\n"
     ]
    }
   ],
   "source": [
    "try:\n",
    "    a = 4/0\n",
    "except Exception:\n",
    "    print(sys.exc_info())"
   ]
  },
  {
   "cell_type": "code",
   "execution_count": 19,
   "id": "1f5b93b1",
   "metadata": {},
   "outputs": [
    {
     "name": "stdout",
     "output_type": "stream",
     "text": [
      "HelloHow are you\n",
      "I'm fine\n"
     ]
    }
   ],
   "source": [
    "print(\"\".join([\"Hello\" , \"How are you\\n\" , \"I'm fine\"]))\n"
   ]
  },
  {
   "cell_type": "code",
   "execution_count": 12,
   "id": "032ec775",
   "metadata": {},
   "outputs": [
    {
     "name": "stdout",
     "output_type": "stream",
     "text": [
      "['Traceback (most recent call last):\\n', '  File \"C:\\\\Users\\\\admin\\\\AppData\\\\Local\\\\Temp\\\\ipykernel_8288\\\\952092087.py\", line 2, in <module>\\n    a = 10/0\\n', 'ZeroDivisionError: division by zero\\n']\n",
      "\n",
      "Convert String : \n",
      "Traceback (most recent call last):\n",
      "  File \"C:\\Users\\admin\\AppData\\Local\\Temp\\ipykernel_8288\\952092087.py\", line 2, in <module>\n",
      "    a = 10/0\n",
      "ZeroDivisionError: division by zero\n",
      "\n"
     ]
    }
   ],
   "source": [
    "try:\n",
    "        a = 10/0\n",
    "        print(a)\n",
    "except Exception as e:\n",
    "        print(traceback.format_exception(*sys.exc_info()))\n",
    "        print()\n",
    "        print(\"Convert String : \")\n",
    "        print(\"\".join(traceback.format_exception(*sys.exc_info())))"
   ]
  },
  {
   "cell_type": "code",
   "execution_count": 27,
   "id": "9303039a",
   "metadata": {},
   "outputs": [],
   "source": [
    "class DocumentPortalException(Exception):\n",
    "    def __init__(self , error_msg , error_detail:sys):\n",
    "        self.error_message = str(error_msg)\n",
    "        _ , _ ,exc_tb = error_detail.exc_info()\n",
    "        self.filename = exc_tb.tb_frame.f_code.co_filename\n",
    "        self.lineno = exc_tb.tb_frame.f_lineno\n",
    "        self.traceback_str = \"\".join(traceback.format_exception(*error_detail.exc_info()))\n",
    "\n",
    "    def __str__(self):\n",
    "        return f\"\"\"\n",
    "            Error in {self.filename} at line [{self.lineno}]\n",
    "            Message : {self.error_message}\n",
    "            Traceback :{self.traceback_str}\n",
    "            \"\"\"\n",
    "    \n",
    "\n",
    "        # exec_type , exec_value , exec_traceback = sys.exc_info()\n",
    "        # tb_exception = \"\".join(traceback.format_exception(exec_type , exec_value , exec_traceback))\n",
    "        # print(f\"Error : {tb_exception}\")\n",
    "        # raise DocumentPortalException()\n",
    "\n"
   ]
  },
  {
   "cell_type": "code",
   "execution_count": 28,
   "id": "8fe93abb",
   "metadata": {},
   "outputs": [
    {
     "ename": "DocumentPortalException",
     "evalue": "\n            Error in C:\\Users\\admin\\AppData\\Local\\Temp\\ipykernel_8288\\3927054561.py at line [8]\n            Message : division by zero\n            Traceback :Traceback (most recent call last):\n  File \"C:\\Users\\admin\\AppData\\Local\\Temp\\ipykernel_8288\\3927054561.py\", line 5, in <module>\n    a = 10/0\nZeroDivisionError: division by zero\n\n            ",
     "output_type": "error",
     "traceback": [
      "\u001b[1;31m---------------------------------------------------------------------------\u001b[0m",
      "\u001b[1;31mZeroDivisionError\u001b[0m                         Traceback (most recent call last)",
      "Cell \u001b[1;32mIn[28], line 5\u001b[0m\n\u001b[0;32m      4\u001b[0m \u001b[38;5;28;01mtry\u001b[39;00m:\n\u001b[1;32m----> 5\u001b[0m     a \u001b[38;5;241m=\u001b[39m \u001b[38;5;241;43m10\u001b[39;49m\u001b[38;5;241;43m/\u001b[39;49m\u001b[38;5;241;43m0\u001b[39;49m\n\u001b[0;32m      6\u001b[0m     \u001b[38;5;28mprint\u001b[39m(a)\n",
      "\u001b[1;31mZeroDivisionError\u001b[0m: division by zero",
      "\nDuring handling of the above exception, another exception occurred:\n",
      "\u001b[1;31mDocumentPortalException\u001b[0m                   Traceback (most recent call last)",
      "Cell \u001b[1;32mIn[28], line 10\u001b[0m\n\u001b[0;32m      8\u001b[0m cus_exc \u001b[38;5;241m=\u001b[39m DocumentPortalException(e , sys)\n\u001b[0;32m      9\u001b[0m logger\u001b[38;5;241m.\u001b[39merror(cus_exc)\n\u001b[1;32m---> 10\u001b[0m \u001b[38;5;28;01mraise\u001b[39;00m cus_exc\n",
      "\u001b[1;31mDocumentPortalException\u001b[0m: \n            Error in C:\\Users\\admin\\AppData\\Local\\Temp\\ipykernel_8288\\3927054561.py at line [8]\n            Message : division by zero\n            Traceback :Traceback (most recent call last):\n  File \"C:\\Users\\admin\\AppData\\Local\\Temp\\ipykernel_8288\\3927054561.py\", line 5, in <module>\n    a = 10/0\nZeroDivisionError: division by zero\n\n            "
     ]
    }
   ],
   "source": [
    "from logger.custom_logger import CustomLogging\n",
    "logger = CustomLogging().get_logger(\"Custom Exception\")\n",
    "if __name__ == \"__main__\":\n",
    "    try:\n",
    "        a = 10/0\n",
    "        print(a)\n",
    "    except Exception as e:\n",
    "        cus_exc = DocumentPortalException(e , sys)\n",
    "        logger.error(cus_exc)\n",
    "        raise cus_exc"
   ]
  },
  {
   "cell_type": "code",
   "execution_count": 7,
   "id": "1c689eea",
   "metadata": {},
   "outputs": [
    {
     "data": {
      "text/plain": [
       "UUID('d211790e-e03a-4d25-a37a-bf6673e0e739')"
      ]
     },
     "execution_count": 7,
     "metadata": {},
     "output_type": "execute_result"
    }
   ],
   "source": [
    "from datetime import datetime\n",
    "import uuid\n",
    "uuid.uuid4()"
   ]
  },
  {
   "cell_type": "code",
   "execution_count": 8,
   "id": "216d415a",
   "metadata": {},
   "outputs": [
    {
     "data": {
      "text/plain": [
       "'fba73b9e'"
      ]
     },
     "execution_count": 8,
     "metadata": {},
     "output_type": "execute_result"
    }
   ],
   "source": [
    "uuid.uuid4().hex[:8]"
   ]
  }
 ],
 "metadata": {
  "kernelspec": {
   "display_name": "Document Portal",
   "language": "python",
   "name": "python3"
  },
  "language_info": {
   "codemirror_mode": {
    "name": "ipython",
    "version": 3
   },
   "file_extension": ".py",
   "mimetype": "text/x-python",
   "name": "python",
   "nbconvert_exporter": "python",
   "pygments_lexer": "ipython3",
   "version": "3.10.8"
  }
 },
 "nbformat": 4,
 "nbformat_minor": 5
}
