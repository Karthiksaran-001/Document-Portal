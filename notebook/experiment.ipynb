{
 "cells": [
  {
   "cell_type": "code",
   "execution_count": 2,
   "id": "8409eae9",
   "metadata": {},
   "outputs": [
    {
     "data": {
      "text/plain": [
       "True"
      ]
     },
     "execution_count": 2,
     "metadata": {},
     "output_type": "execute_result"
    }
   ],
   "source": [
    "import os\n",
    "from dotenv import load_dotenv\n",
    "from langchain_groq import ChatGroq\n",
    "load_dotenv()"
   ]
  },
  {
   "cell_type": "code",
   "execution_count": 22,
   "id": "9d322b72",
   "metadata": {},
   "outputs": [
    {
     "name": "stdout",
     "output_type": "stream",
     "text": [
      "<think>\n",
      "Okay, so the user is asking, \"What is the Capital of France?\" Let me think. First, I need to recall basic geography facts. France is a country in Europe, and I remember that its capital is a major city. I think it's Paris. Wait, is there another possibility? Maybe Lyon or Marseille? No, those are other cities in France. I'm pretty sure Paris is the capital. Let me verify. Paris is known for landmarks like the Eiffel Tower, the Louvre, and Notre-Dame Cathedral. It's a significant cultural and historical center. Also, I recall that many international organizations are headquartered there, like UNESCO. But wait, isn't UNESCO actually in Paris? That might be a point to mention. Also, some people might confuse the capital with other cities, so it's important to be clear. I should also check if there's any recent change, but I don't think so. The capital hasn't changed in a long time. So, the answer is Paris. Maybe add a bit about its significance to give context. Let me make sure there's no trick here. Sometimes questions might refer to different capitals, like the legislative or administrative capitals, but in the case of France, all these are Paris. Yeah, I think that's solid.\n",
      "</think>\n",
      "\n",
      "The capital of France is **Paris**. \n",
      "\n",
      "Paris is not only the political and administrative center of France but also a global hub for art, fashion, and culture. It is home to iconic landmarks such as the **Eiffel Tower**, **Louvre Museum**, and **Notre-Dame Cathedral**. The city has historically been a center of European influence and continues to play a significant role in international commerce and diplomacy. \n",
      "\n",
      "Let me know if you'd like additional details! 🇫🇷\n"
     ]
    }
   ],
   "source": [
    "llm = ChatGroq(model = \"qwen/qwen3-32b\")\n",
    "print(llm.invoke(\"what is the Capital of France\").content)"
   ]
  },
  {
   "cell_type": "code",
   "execution_count": 21,
   "id": "228f949d",
   "metadata": {},
   "outputs": [],
   "source": [
    "from langchain_google_genai import GoogleGenerativeAIEmbeddings\n",
    "embedding_model = GoogleGenerativeAIEmbeddings(model=\"models/embedding-001\", google_api_key=os.environ[\"GOOGLE_APPLICATION_CREDENTIAL\"])"
   ]
  },
  {
   "cell_type": "code",
   "execution_count": 23,
   "id": "a8c6bcae",
   "metadata": {},
   "outputs": [
    {
     "data": {
      "text/plain": [
       "GoogleGenerativeAIEmbeddings(client=<google.ai.generativelanguage_v1beta.services.generative_service.client.GenerativeServiceClient object at 0x000001D3147B1E70>, async_client=<google.ai.generativelanguage_v1beta.services.generative_service.async_client.GenerativeServiceAsyncClient object at 0x000001D314802860>, model='models/embedding-001', task_type=None, google_api_key=SecretStr('**********'), credentials=None, client_options=None, transport=None, request_options=None)"
      ]
     },
     "execution_count": 23,
     "metadata": {},
     "output_type": "execute_result"
    }
   ],
   "source": [
    "embedding_model"
   ]
  },
  {
   "cell_type": "code",
   "execution_count": 14,
   "id": "d59b8db5",
   "metadata": {},
   "outputs": [
    {
     "data": {
      "text/plain": [
       "768"
      ]
     },
     "execution_count": 14,
     "metadata": {},
     "output_type": "execute_result"
    }
   ],
   "source": [
    "len(embedding_model.embed_query(\"what is Embedding\"))"
   ]
  },
  {
   "cell_type": "markdown",
   "id": "e6ba25c0",
   "metadata": {},
   "source": [
    "1. Data Ingestion"
   ]
  },
  {
   "cell_type": "code",
   "execution_count": 4,
   "id": "b62fc0e6",
   "metadata": {},
   "outputs": [],
   "source": [
    "from langchain.document_loaders import PyPDFLoader\n",
    "from langchain.text_splitter import RecursiveCharacterTextSplitter"
   ]
  },
  {
   "cell_type": "code",
   "execution_count": 3,
   "id": "65faf072",
   "metadata": {},
   "outputs": [
    {
     "data": {
      "text/plain": [
       "'f:\\\\Agentic AI\\\\LLMOps\\\\Document Portal\\\\notebook\\\\data\\\\Karthikeyan Saravanan-cv.pdf'"
      ]
     },
     "execution_count": 3,
     "metadata": {},
     "output_type": "execute_result"
    }
   ],
   "source": [
    "data_path = os.path.join(os.getcwd() , \"data\" , \"Karthikeyan Saravanan-cv.pdf\")\n",
    "data_path"
   ]
  },
  {
   "cell_type": "code",
   "execution_count": 5,
   "id": "6085794b",
   "metadata": {},
   "outputs": [
    {
     "data": {
      "text/plain": [
       "<langchain_community.document_loaders.pdf.PyPDFLoader at 0x1d307e5b130>"
      ]
     },
     "execution_count": 5,
     "metadata": {},
     "output_type": "execute_result"
    }
   ],
   "source": [
    "loader = PyPDFLoader(data_path)\n",
    "loader"
   ]
  },
  {
   "cell_type": "code",
   "execution_count": 6,
   "id": "8b468e3e",
   "metadata": {},
   "outputs": [
    {
     "data": {
      "text/plain": [
       "[Document(metadata={'producer': 'pdfTeX-1.40.24', 'creator': 'LaTeX with hyperref', 'creationdate': '2025-07-10T07:39:57+00:00', 'author': '', 'keywords': '', 'moddate': '2025-07-10T07:39:57+00:00', 'ptex.fullbanner': 'This is pdfTeX, Version 3.141592653-2.6-1.40.24 (TeX Live 2022) kpathsea version 6.3.4', 'subject': '', 'title': '', 'trapped': '/False', 'source': 'f:\\\\Agentic AI\\\\LLMOps\\\\Document Portal\\\\notebook\\\\data\\\\Karthikeyan Saravanan-cv.pdf', 'total_pages': 2, 'page': 0, 'page_label': '1'}, page_content='KARTHIKEYAN SARAVANAN\\nAI enthusiast and Data Scientist with nearly 4 years of\\nexperience in advanced AI technologies, including\\nTraditional Machine Learning, Generative AI, Large\\nLanguage Models (LLMs), Retrieval-Augmented\\nGeneration (RAG), Fine-tuning(LORA, PEFT), and\\nAgentic AI systems. Proven expertise in end-to-end AI\\nproject development and seamless integration of\\nCI/CD tools. Actively seeking a challenging role to\\ndeepen expertise and contribute to innovative\\nsolutions in the rapidly evolving AI landscape.\\nWork Experience\\nAB InBev Bangalore, India\\nData Scientist Aug 2024 – Present\\n• Project : Collaborated with developers to build best AI tool\\nCatExpert.ai for assortment mix and Plano in the market.\\n• Description : Applied advanced statistical methods (Cluster\\nAnalysis, predictive modelling) to identify differentiated cus-\\ntomer segments, improving business targeting strategies for\\nstore\\n• Tech Stack : Python 3.X, Azure Studio, Machine Learning\\nCare Centra Chennai, India\\nData Scientist May 2023 – July 2024\\n• Project : Build a multi-tasking (Sentiment Analysis , Hyperten-\\nsion Classification) model using Google FlanT5 language model\\n• Description : Led the fine-tuning of a language model using\\na substantial dataset comprising patient surveys and health\\nrecords. The workflow involved thorough data analysis, pre-\\nprocessing, and applying parameter-efficient fine-tuning (PEFT)\\ntechniques, including quantization-aware training, to optimize\\nmodel performance. Successfully deployed the fine-tuned model\\nas a scalable API to support backend services in a healthcare\\napplication.\\n• Tech Stack : Python 3.X, MongoDB, NLP , NLTK, Transformers,\\nPEFT, AWS, Flask, Huggingface\\nOmega HealthCare Management Chennai\\n♂phone+91 8870652471\\n/envel⌢pemailmekarthik001@gmail.com\\n/linkedinlinkedin.com/in/karthikeyan-s-001\\n/githubgithub.com/Karthiksaran-001\\nskills\\n1. Programming : (Python· ,C++)\\n2. Database : (SQL ,MongoDB\\n,Cassendra)\\n3. Machine Learning : (Classification\\nRegression,Clustering,Dimensionality\\nReduction,Reccomendation System\\n4. NLP : (NLTK,Spacy, RNN, LSTM\\nGRU, BERT, GPT)\\n5. CV : (CNN, Transfer Learning , YOLO,\\nFaster-RCNN , Open CV)\\n6. Deep Learning (Tensorflow,Pytorch\\n,transformers)\\n7. Generative AI : (RAG(Langchain,\\nLanGraph,Prompt Tuning , Agentic AI),\\nVectorDB , FineTune:(\\nPEFT,Quantization ,LORA)\\n8. Deployment : (DVC, Mlflow\\nFlask, Docker , AWS , Linux)\\n9. RPA (Uipath,C-Sharp)\\n9. Big Data (Pyspark,DataBricks)\\n10. Version Control (GIT,SVN)\\n11. AWS (EC2,EMR,S3)\\n12. Linux (Ubuntu)'),\n",
       " Document(metadata={'producer': 'pdfTeX-1.40.24', 'creator': 'LaTeX with hyperref', 'creationdate': '2025-07-10T07:39:57+00:00', 'author': '', 'keywords': '', 'moddate': '2025-07-10T07:39:57+00:00', 'ptex.fullbanner': 'This is pdfTeX, Version 3.141592653-2.6-1.40.24 (TeX Live 2022) kpathsea version 6.3.4', 'subject': '', 'title': '', 'trapped': '/False', 'source': 'f:\\\\Agentic AI\\\\LLMOps\\\\Document Portal\\\\notebook\\\\data\\\\Karthikeyan Saravanan-cv.pdf', 'total_pages': 2, 'page': 1, 'page_label': '2'}, page_content='Software Engineer Nov 2021 – May 2023\\n• Project : Document Classification Using Computer Vision and\\nRPA\\n• Tech Stack : Python3.X, Computer Vision , Uipath , C-Sharp,\\nFastAPI,Tensorflow, OpenCV\\n• Description : Classified Healtcare Document for one of the top\\nUS Insurance client.\\nCertification/Courses\\n2024 IIT-Dhanbad : Internship Program for Data Science\\n2022 Learnbay-IBM Data Science and Advanced AI\\n2021 Ineuron - Full Stack DataScience\\n2024 Ineuron - Generative AI and LLM\\nEducation\\nMahendra Engineering College Nammakal, Tamil Nadu\\nB.E, CSE 2017 – 2021\\n•')]"
      ]
     },
     "execution_count": 6,
     "metadata": {},
     "output_type": "execute_result"
    }
   ],
   "source": [
    "documents = loader.load()\n",
    "documents"
   ]
  },
  {
   "cell_type": "code",
   "execution_count": 8,
   "id": "9a379a75",
   "metadata": {},
   "outputs": [
    {
     "data": {
      "text/plain": [
       "15"
      ]
     },
     "execution_count": 8,
     "metadata": {},
     "output_type": "execute_result"
    }
   ],
   "source": [
    "text_splitter = RecursiveCharacterTextSplitter(\n",
    "    chunk_size = 300,\n",
    "    chunk_overlap = 75,\n",
    "    length_function = len\n",
    ")\n",
    "docs = text_splitter.split_documents(documents)\n",
    "len(docs)"
   ]
  },
  {
   "cell_type": "code",
   "execution_count": 15,
   "id": "0b55fad6",
   "metadata": {},
   "outputs": [
    {
     "name": "stdout",
     "output_type": "stream",
     "text": [
      "KARTHIKEYAN SARAVANAN\n",
      "AI enthusiast and Data Scientist with nearly 4 years of\n",
      "experience in advanced AI technologies, including\n",
      "Traditional Machine Learning, Generative AI, Large\n",
      "Language Models (LLMs), Retrieval-Augmented\n",
      "Generation (RAG), Fine-tuning(LORA, PEFT), and\n"
     ]
    }
   ],
   "source": [
    "print(docs[0].page_content)"
   ]
  },
  {
   "cell_type": "code",
   "execution_count": 16,
   "id": "46c298de",
   "metadata": {},
   "outputs": [
    {
     "name": "stdout",
     "output_type": "stream",
     "text": [
      "269\n"
     ]
    }
   ],
   "source": [
    "print(len(docs[0].page_content))"
   ]
  },
  {
   "cell_type": "code",
   "execution_count": 12,
   "id": "e7daf174",
   "metadata": {},
   "outputs": [
    {
     "name": "stdout",
     "output_type": "stream",
     "text": [
      "Generation (RAG), Fine-tuning(LORA, PEFT), and\n",
      "Agentic AI systems. Proven expertise in end-to-end AI\n",
      "project development and seamless integration of\n",
      "CI/CD tools. Actively seeking a challenging role to\n",
      "deepen expertise and contribute to innovative\n",
      "solutions in the rapidly evolving AI landscape.\n"
     ]
    }
   ],
   "source": [
    "print(docs[1].page_content)"
   ]
  },
  {
   "cell_type": "code",
   "execution_count": 17,
   "id": "f6e79a2b",
   "metadata": {},
   "outputs": [
    {
     "data": {
      "text/plain": [
       "{'producer': 'pdfTeX-1.40.24',\n",
       " 'creator': 'LaTeX with hyperref',\n",
       " 'creationdate': '2025-07-10T07:39:57+00:00',\n",
       " 'author': '',\n",
       " 'keywords': '',\n",
       " 'moddate': '2025-07-10T07:39:57+00:00',\n",
       " 'ptex.fullbanner': 'This is pdfTeX, Version 3.141592653-2.6-1.40.24 (TeX Live 2022) kpathsea version 6.3.4',\n",
       " 'subject': '',\n",
       " 'title': '',\n",
       " 'trapped': '/False',\n",
       " 'source': 'f:\\\\Agentic AI\\\\LLMOps\\\\Document Portal\\\\notebook\\\\data\\\\Karthikeyan Saravanan-cv.pdf',\n",
       " 'total_pages': 2,\n",
       " 'page': 0,\n",
       " 'page_label': '1'}"
      ]
     },
     "execution_count": 17,
     "metadata": {},
     "output_type": "execute_result"
    }
   ],
   "source": [
    "docs[0].metadata"
   ]
  },
  {
   "cell_type": "code",
   "execution_count": 18,
   "id": "064146d0",
   "metadata": {},
   "outputs": [
    {
     "data": {
      "text/plain": [
       "{'producer': 'pdfTeX-1.40.24',\n",
       " 'creator': 'LaTeX with hyperref',\n",
       " 'creationdate': '2025-07-10T07:39:57+00:00',\n",
       " 'author': '',\n",
       " 'keywords': '',\n",
       " 'moddate': '2025-07-10T07:39:57+00:00',\n",
       " 'ptex.fullbanner': 'This is pdfTeX, Version 3.141592653-2.6-1.40.24 (TeX Live 2022) kpathsea version 6.3.4',\n",
       " 'subject': '',\n",
       " 'title': '',\n",
       " 'trapped': '/False',\n",
       " 'source': 'f:\\\\Agentic AI\\\\LLMOps\\\\Document Portal\\\\notebook\\\\data\\\\Karthikeyan Saravanan-cv.pdf',\n",
       " 'total_pages': 2,\n",
       " 'page': 1,\n",
       " 'page_label': '2'}"
      ]
     },
     "execution_count": 18,
     "metadata": {},
     "output_type": "execute_result"
    }
   ],
   "source": [
    "docs[-1].metadata"
   ]
  },
  {
   "cell_type": "markdown",
   "id": "6531381c",
   "metadata": {},
   "source": [
    "## Store Vector DB"
   ]
  },
  {
   "cell_type": "code",
   "execution_count": null,
   "id": "be6dd032",
   "metadata": {},
   "outputs": [
    {
     "data": {
      "text/plain": [
       "<langchain_community.vectorstores.faiss.FAISS at 0x1d3161ed900>"
      ]
     },
     "execution_count": 24,
     "metadata": {},
     "output_type": "execute_result"
    }
   ],
   "source": [
    "from langchain.vectorstores import FAISS\n",
    "vector_store = FAISS.from_documents(\n",
    "    docs,\n",
    "    embedding_model)\n",
    "vector_store ## It is now In-Memory Storage"
   ]
  },
  {
   "cell_type": "code",
   "execution_count": 28,
   "id": "e633cf70",
   "metadata": {},
   "outputs": [
    {
     "data": {
      "text/plain": [
       "[Document(id='02eb548d-67c8-40fc-af78-9db33c15f3e8', metadata={'producer': 'pdfTeX-1.40.24', 'creator': 'LaTeX with hyperref', 'creationdate': '2025-07-10T07:39:57+00:00', 'author': '', 'keywords': '', 'moddate': '2025-07-10T07:39:57+00:00', 'ptex.fullbanner': 'This is pdfTeX, Version 3.141592653-2.6-1.40.24 (TeX Live 2022) kpathsea version 6.3.4', 'subject': '', 'title': '', 'trapped': '/False', 'source': 'f:\\\\Agentic AI\\\\LLMOps\\\\Document Portal\\\\notebook\\\\data\\\\Karthikeyan Saravanan-cv.pdf', 'total_pages': 2, 'page': 0, 'page_label': '1'}, page_content='1. Programming : (Python· ,C++)\\n2. Database : (SQL ,MongoDB\\n,Cassendra)\\n3. Machine Learning : (Classification\\nRegression,Clustering,Dimensionality\\nReduction,Reccomendation System\\n4. NLP : (NLTK,Spacy, RNN, LSTM\\nGRU, BERT, GPT)\\n5. CV : (CNN, Transfer Learning , YOLO,\\nFaster-RCNN , Open CV)'),\n",
       " Document(id='446d0dc9-e6b1-4346-b040-2c181868b394', metadata={'producer': 'pdfTeX-1.40.24', 'creator': 'LaTeX with hyperref', 'creationdate': '2025-07-10T07:39:57+00:00', 'author': '', 'keywords': '', 'moddate': '2025-07-10T07:39:57+00:00', 'ptex.fullbanner': 'This is pdfTeX, Version 3.141592653-2.6-1.40.24 (TeX Live 2022) kpathsea version 6.3.4', 'subject': '', 'title': '', 'trapped': '/False', 'source': 'f:\\\\Agentic AI\\\\LLMOps\\\\Document Portal\\\\notebook\\\\data\\\\Karthikeyan Saravanan-cv.pdf', 'total_pages': 2, 'page': 1, 'page_label': '2'}, page_content='Education\\nMahendra Engineering College Nammakal, Tamil Nadu\\nB.E, CSE 2017 – 2021\\n•')]"
      ]
     },
     "execution_count": 28,
     "metadata": {},
     "output_type": "execute_result"
    }
   ],
   "source": [
    "vector_store.similarity_search(\"what is the Working Experience of the candidate?\", k=2)"
   ]
  },
  {
   "cell_type": "code",
   "execution_count": 29,
   "id": "65e46099",
   "metadata": {},
   "outputs": [
    {
     "data": {
      "text/plain": [
       "VectorStoreRetriever(tags=['FAISS', 'GoogleGenerativeAIEmbeddings'], vectorstore=<langchain_community.vectorstores.faiss.FAISS object at 0x000001D3161ED900>, search_kwargs={})"
      ]
     },
     "execution_count": 29,
     "metadata": {},
     "output_type": "execute_result"
    }
   ],
   "source": [
    "retriver = vector_store.as_retriever()\n",
    "retriver"
   ]
  },
  {
   "cell_type": "code",
   "execution_count": 30,
   "id": "436030a9",
   "metadata": {},
   "outputs": [
    {
     "data": {
      "text/plain": [
       "PromptTemplate(input_variables=['context', 'question'], input_types={}, partial_variables={}, template='\\n        Answer the Question based on the context provided below.\\n        If the Context doesn\\'t provide sufficient information, respond with:\\n        \"I dont have Enough Information about this\" \\n\\n        Context: {context}\\n        Question:{question}\\n\\n        Answer:\\n')"
      ]
     },
     "execution_count": 30,
     "metadata": {},
     "output_type": "execute_result"
    }
   ],
   "source": [
    "from langchain.prompts import PromptTemplate\n",
    "\n",
    "prompt_template = \"\"\"\n",
    "        Answer the Question based on the context provided below.\n",
    "        If the Context doesn't provide sufficient information, respond with:\n",
    "        \"I dont have Enough Information about this\" \n",
    "\n",
    "        Context: {context}\n",
    "        Question:{question}\n",
    "\n",
    "        Answer:\n",
    "\"\"\"\n",
    "prompt = PromptTemplate(\n",
    "    template= prompt_template,\n",
    "    input_variables=[\"context\" , \"question\"]\n",
    ")\n",
    "prompt"
   ]
  },
  {
   "cell_type": "code",
   "execution_count": 34,
   "id": "e0fe998f",
   "metadata": {},
   "outputs": [],
   "source": [
    "from langchain_core.output_parsers import StrOutputParser\n",
    "from langchain_core.runnables import RunnablePassthrough\n",
    "runnable = RunnablePassthrough()\n",
    "parser = StrOutputParser()"
   ]
  },
  {
   "cell_type": "code",
   "execution_count": 32,
   "id": "b7b0463e",
   "metadata": {},
   "outputs": [],
   "source": [
    "def format_docs(docs):\n",
    "    return \"\\n\\n\".join([doc.page_content for doc in docs])\n"
   ]
  },
  {
   "cell_type": "code",
   "execution_count": 35,
   "id": "8b0d6b11",
   "metadata": {},
   "outputs": [],
   "source": [
    "rag_chain = (\n",
    "    {\"context\" : retriver | format_docs, \"question\" : runnable}\n",
    "    | prompt\n",
    "    | llm\n",
    "    | parser\n",
    ")"
   ]
  },
  {
   "cell_type": "code",
   "execution_count": 41,
   "id": "be71a6c0",
   "metadata": {},
   "outputs": [
    {
     "name": "stdout",
     "output_type": "stream",
     "text": [
      "<think>\n",
      "Okay, let's see. The user is asking about the technical skills of the candidate based on the provided context. The context looks like a list of various technical areas and the tools or frameworks related to them. Let me go through each section one by one.\n",
      "\n",
      "First, there's Programming with Python and C++. Then Databases include SQL, MongoDB, and Cassandra. Machine Learning covers Classification, Regression, Clustering, Dimensionality Reduction, and Recommendation Systems. NLP has NLTK, Spacy, RNN, LSTM, GRU, BERT, GPT. Computer Vision (CV) includes CNN, Transfer Learning, YOLO, Faster-RCNN, OpenCV. \n",
      "\n",
      "Next, Deployment mentions DVC, Mlflow, Flask, Docker, AWS, Linux. RPA tools are UiPath and C#. Big Data is PySpark and DataBricks. Version Control uses GIT and SVN. AWS services listed are EC2, EMR, S3. Linux is Ubuntu.\n",
      "\n",
      "Continuing down, Deep Learning includes TensorFlow, PyTorch, Transformers. Generative AI has RAG with Langchain, LangGraph, Prompt Tuning, Agentic AI, VectorDB, and FineTuning techniques like PEFT, Quantization, LoRA.\n",
      "\n",
      "Putting all this together, the candidate's technical skills span multiple domains. They have programming skills in Python and C++. For databases, they handle SQL and NoSQL databases. In Machine Learning and Deep Learning, they know various algorithms and frameworks. NLP and CV are covered with specific libraries and models. Deployment tools like Docker and AWS, along with version control and cloud services, are also part of their skill set. Additionally, they have experience with Big Data and RPA tools. I need to list all these in a structured way without missing any sections. Let me check if there's any repetition or sections that might have been missed. The context mentions some sections twice, like Deployment and CV, but I should list each skill once. Also, the education part is there but the question is about technical skills, so I can ignore that. Alright, compiling all the points into a coherent list.\n",
      "</think>\n",
      "\n",
      "The candidate's technical skills include:  \n",
      "1. **Programming**: Python, C++.  \n",
      "2. **Databases**: SQL, MongoDB, Cassandra.  \n",
      "3. **Machine Learning**: Classification, Regression, Clustering, Dimensionality Reduction, Recommendation Systems.  \n",
      "4. **NLP**: NLTK, SpaCy, RNN, LSTM, GRU, BERT, GPT.  \n",
      "5. **Computer Vision**: CNN, Transfer Learning, YOLO, Faster-RCNN, OpenCV.  \n",
      "6. **Deep Learning**: TensorFlow, PyTorch, Transformers.  \n",
      "7. **Generative AI**: RAG (LangChain, LangGraph, Prompt Tuning, Agentic AI), VectorDB, Fine-Tuning (PEFT, Quantization, LoRA).  \n",
      "8. **Deployment**: DVC, MLflow, Flask, Docker, AWS, Linux.  \n",
      "9. **Big Data**: PySpark, DataBricks.  \n",
      "10. **RPA**: UiPath, C#.  \n",
      "11. **Version Control**: Git, SVN.  \n",
      "12. **AWS Services**: EC2, EMR, S3.  \n",
      "13. **Linux**: Ubuntu.  \n",
      "\n",
      "These skills span software development, data science, machine learning, NLP, computer vision, cloud computing, and deployment tools.\n"
     ]
    }
   ],
   "source": [
    "print(rag_chain.invoke(\"what is the technical skills of the Candidate?\"))"
   ]
  },
  {
   "cell_type": "code",
   "execution_count": 44,
   "id": "4b0e5a73",
   "metadata": {},
   "outputs": [
    {
     "name": "stdout",
     "output_type": "stream",
     "text": [
      "<think>\n",
      "Okay, let's see. The user is asking about the certifications the candidate has. I need to look through the provided context to find any mentions of certifications or courses.\n",
      "\n",
      "Looking at the context, there's a section labeled \"Certification/Courses\" which lists several entries. The entries are:\n",
      "\n",
      "- 2024 IIT-Dhanbad : Internship Program for Data Science\n",
      "- 2022 Learnbay-IBM Data Science and Advanced AI\n",
      "- 2021 Ineuron - Full Stack DataScience\n",
      "- 2024 Ineuron - Generative AI and LLM\n",
      "\n",
      "These all look like certifications or courses the candidate has completed. The other sections like Programming, Database, etc., don't mention certifications, so I should focus on the \"Certification/Courses\" part. \n",
      "\n",
      "I need to list each of these as separate certifications. The answer should include all four entries. Let me make sure there's no other information elsewhere. The education section mentions the B.E degree but not certifications. The answer is only the four listed under Certification/Courses. The user wants the answer in the Answer: section, so I'll present them clearly.\n",
      "</think>\n",
      "\n",
      "Answer: The candidate has the following certifications:  \n",
      "1. 2024 IIT-Dhanbad: Internship Program for Data Science  \n",
      "2. 2022 Learnbay-IBM: Data Science and Advanced AI  \n",
      "3. 2021 Ineuron: Full Stack DataScience  \n",
      "4. 2024 Ineuron: Generative AI and LLM\n"
     ]
    }
   ],
   "source": [
    "print(rag_chain.invoke(\"what are the Certification from the Candidate?\"))"
   ]
  },
  {
   "cell_type": "code",
   "execution_count": null,
   "id": "aa89fa68",
   "metadata": {},
   "outputs": [],
   "source": []
  }
 ],
 "metadata": {
  "kernelspec": {
   "display_name": "Document Portal",
   "language": "python",
   "name": "python3"
  },
  "language_info": {
   "codemirror_mode": {
    "name": "ipython",
    "version": 3
   },
   "file_extension": ".py",
   "mimetype": "text/x-python",
   "name": "python",
   "nbconvert_exporter": "python",
   "pygments_lexer": "ipython3",
   "version": "3.10.8"
  }
 },
 "nbformat": 4,
 "nbformat_minor": 5
}
