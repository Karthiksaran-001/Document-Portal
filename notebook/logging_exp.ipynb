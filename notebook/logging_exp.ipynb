{
 "cells": [
  {
   "cell_type": "code",
   "execution_count": 62,
   "id": "e40b14e7",
   "metadata": {},
   "outputs": [],
   "source": [
    "import logging \n",
    "import os\n",
    "from datetime import datetime"
   ]
  },
  {
   "cell_type": "code",
   "execution_count": 63,
   "id": "f32e1c9d",
   "metadata": {},
   "outputs": [],
   "source": [
    "logs_dir = os.path.join(os.getcwd() , \"logs\")\n",
    "os.makedirs(logs_dir , exist_ok= True)"
   ]
  },
  {
   "cell_type": "code",
   "execution_count": 64,
   "id": "efb8ed50",
   "metadata": {},
   "outputs": [
    {
     "data": {
      "text/plain": [
       "'LOG_07_28_2025_22_18_02.log'"
      ]
     },
     "execution_count": 64,
     "metadata": {},
     "output_type": "execute_result"
    }
   ],
   "source": [
    "log_file = f\"LOG_{datetime.now().strftime('%m_%d_%Y_%H_%M_%S')}.log\"\n",
    "log_file"
   ]
  },
  {
   "cell_type": "code",
   "execution_count": 65,
   "id": "81d8a761",
   "metadata": {},
   "outputs": [
    {
     "data": {
      "text/plain": [
       "'f:\\\\Agentic AI\\\\LLMOps\\\\Document Portal\\\\notebook\\\\logs\\\\LOG_07_28_2025_22_18_02.log'"
      ]
     },
     "execution_count": 65,
     "metadata": {},
     "output_type": "execute_result"
    }
   ],
   "source": [
    "LOG_FILE_PATH = os.path.join(logs_dir , log_file)\n",
    "LOG_FILE_PATH"
   ]
  },
  {
   "cell_type": "code",
   "execution_count": 66,
   "id": "a52ad733",
   "metadata": {},
   "outputs": [],
   "source": [
    "logging.basicConfig(\n",
    "    filename= LOG_FILE_PATH,\n",
    "    level= logging.INFO,\n",
    "    format= \"[ %(asctime)s ] %(levelname)s  [%(name)s] - %(filename)s - (line:%(lineno)d) -  %(message)s\",\n",
    "    force= True\n",
    ")"
   ]
  },
  {
   "cell_type": "code",
   "execution_count": 55,
   "id": "7d607e67",
   "metadata": {},
   "outputs": [],
   "source": [
    "logger = logging.getLogger(\"Document-Portal\")"
   ]
  },
  {
   "cell_type": "code",
   "execution_count": 67,
   "id": "eb5dcdfa",
   "metadata": {},
   "outputs": [],
   "source": [
    "logger.info('Now Working')"
   ]
  },
  {
   "cell_type": "code",
   "execution_count": 68,
   "id": "b2951e06",
   "metadata": {},
   "outputs": [],
   "source": [
    "for handler in logger.handlers[:]:\n",
    "    print(handler)\n",
    "    handler.close()\n",
    "    logger.removeHandler(handler)"
   ]
  },
  {
   "cell_type": "code",
   "execution_count": 69,
   "id": "3ae5fa47",
   "metadata": {},
   "outputs": [],
   "source": [
    "import logging\n",
    "import os\n",
    "\n",
    "def close_all_loggers():\n",
    "    \"\"\"Forcefully close all loggers and handlers.\"\"\"\n",
    "    for logger_name in logging.root.manager.loggerDict.keys():\n",
    "        logger = logging.getLogger(logger_name)\n",
    "        for handler in logger.handlers[:]:\n",
    "            handler.close()\n",
    "            logger.removeHandler(handler)\n",
    "    \n",
    "    # Also close handlers on the root logger\n",
    "    for handler in logging.root.handlers[:]:\n",
    "        handler.close()\n",
    "        logging.root.removeHandler(handler)\n",
    "\n",
    "close_all_loggers()\n"
   ]
  },
  {
   "cell_type": "code",
   "execution_count": null,
   "id": "e70daa44",
   "metadata": {},
   "outputs": [],
   "source": []
  }
 ],
 "metadata": {
  "kernelspec": {
   "display_name": "Document Portal",
   "language": "python",
   "name": "python3"
  },
  "language_info": {
   "codemirror_mode": {
    "name": "ipython",
    "version": 3
   },
   "file_extension": ".py",
   "mimetype": "text/x-python",
   "name": "python",
   "nbconvert_exporter": "python",
   "pygments_lexer": "ipython3",
   "version": "3.10.8"
  }
 },
 "nbformat": 4,
 "nbformat_minor": 5
}
